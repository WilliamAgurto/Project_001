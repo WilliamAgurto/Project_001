{
 "cells": [
  {
   "attachments": {},
   "cell_type": "markdown",
   "metadata": {},
   "source": [
    "In this python notebook, I have applyied TF-IDF system recommendation. I have used two parameters,individually. In my first case, I used genred column to analyse how system recommendation works. Secondly, I use overview column for the same analysis. Eventually, with the data showed. I realized that using overview column is more precise than genres columns and it may be because of the fact that TF-IDF matrix is bigger as we can see in the script. Evidently, The validity of these results needs to be established using Cross-Validation or another metric. However, in order to the lack of time and to avoid making the file heavier. I just showed the results I got."
   ]
  },
  {
   "cell_type": "code",
   "execution_count": 12,
   "metadata": {},
   "outputs": [],
   "source": [
    "#Importing libraries.\n",
    "import pandas as pd\n",
    "from sklearn.feature_extraction.text import TfidfVectorizer\n",
    "from sklearn.metrics.pairwise import cosine_similarity"
   ]
  },
  {
   "cell_type": "code",
   "execution_count": 13,
   "metadata": {},
   "outputs": [
    {
     "data": {
      "text/html": [
       "<div>\n",
       "<style scoped>\n",
       "    .dataframe tbody tr th:only-of-type {\n",
       "        vertical-align: middle;\n",
       "    }\n",
       "\n",
       "    .dataframe tbody tr th {\n",
       "        vertical-align: top;\n",
       "    }\n",
       "\n",
       "    .dataframe thead th {\n",
       "        text-align: right;\n",
       "    }\n",
       "</style>\n",
       "<table border=\"1\" class=\"dataframe\">\n",
       "  <thead>\n",
       "    <tr style=\"text-align: right;\">\n",
       "      <th></th>\n",
       "      <th>title</th>\n",
       "      <th>overview</th>\n",
       "      <th>genres</th>\n",
       "    </tr>\n",
       "  </thead>\n",
       "  <tbody>\n",
       "    <tr>\n",
       "      <th>0</th>\n",
       "      <td>toy story</td>\n",
       "      <td>led by woody, andy's toys live happily in his ...</td>\n",
       "      <td>animation, comedy, family</td>\n",
       "    </tr>\n",
       "    <tr>\n",
       "      <th>1</th>\n",
       "      <td>jumanji</td>\n",
       "      <td>when siblings judy and peter discover an encha...</td>\n",
       "      <td>adventure, fantasy, family</td>\n",
       "    </tr>\n",
       "    <tr>\n",
       "      <th>2</th>\n",
       "      <td>grumpier old men</td>\n",
       "      <td>a family wedding reignites the ancient feud be...</td>\n",
       "      <td>romance, comedy</td>\n",
       "    </tr>\n",
       "    <tr>\n",
       "      <th>3</th>\n",
       "      <td>waiting to exhale</td>\n",
       "      <td>cheated on, mistreated and stepped on, the wom...</td>\n",
       "      <td>comedy, drama, romance</td>\n",
       "    </tr>\n",
       "    <tr>\n",
       "      <th>4</th>\n",
       "      <td>father of the bride part ii</td>\n",
       "      <td>just when george banks has recovered from his ...</td>\n",
       "      <td>comedy</td>\n",
       "    </tr>\n",
       "  </tbody>\n",
       "</table>\n",
       "</div>"
      ],
      "text/plain": [
       "                         title  \\\n",
       "0                    toy story   \n",
       "1                      jumanji   \n",
       "2             grumpier old men   \n",
       "3            waiting to exhale   \n",
       "4  father of the bride part ii   \n",
       "\n",
       "                                            overview  \\\n",
       "0  led by woody, andy's toys live happily in his ...   \n",
       "1  when siblings judy and peter discover an encha...   \n",
       "2  a family wedding reignites the ancient feud be...   \n",
       "3  cheated on, mistreated and stepped on, the wom...   \n",
       "4  just when george banks has recovered from his ...   \n",
       "\n",
       "                       genres  \n",
       "0   animation, comedy, family  \n",
       "1  adventure, fantasy, family  \n",
       "2             romance, comedy  \n",
       "3      comedy, drama, romance  \n",
       "4                      comedy  "
      ]
     },
     "execution_count": 13,
     "metadata": {},
     "output_type": "execute_result"
    }
   ],
   "source": [
    "# loading data.\n",
    "df = pd.read_csv('datasets/new_movies_dataset.csv',\n",
    "                           usecols=['title','overview','genres'])\n",
    "df.head()"
   ]
  },
  {
   "cell_type": "code",
   "execution_count": 14,
   "metadata": {},
   "outputs": [
    {
     "data": {
      "text/plain": [
       "0"
      ]
     },
     "execution_count": 14,
     "metadata": {},
     "output_type": "execute_result"
    }
   ],
   "source": [
    "df.genres.isnull().sum()"
   ]
  },
  {
   "cell_type": "code",
   "execution_count": 15,
   "metadata": {},
   "outputs": [
    {
     "data": {
      "text/plain": [
       "'animation, comedy, family'"
      ]
     },
     "execution_count": 15,
     "metadata": {},
     "output_type": "execute_result"
    }
   ],
   "source": [
    "# Getting the description of the movie title given.\n",
    "movie_title = 'toy story'\n",
    "desc = df[(df['title'] == movie_title)]['genres'].str.strip()[0]\n",
    "desc"
   ]
  },
  {
   "cell_type": "code",
   "execution_count": 16,
   "metadata": {},
   "outputs": [
    {
     "data": {
      "text/plain": [
       "<45363x24 sparse matrix of type '<class 'numpy.float64'>'\n",
       "\twith 99577 stored elements in Compressed Sparse Row format>"
      ]
     },
     "execution_count": 16,
     "metadata": {},
     "output_type": "execute_result"
    }
   ],
   "source": [
    "# Computing all the TF-IDF features for all the genres.\n",
    "tfidf = TfidfVectorizer()\n",
    "tfidf_matrix = tfidf.fit_transform(df['genres'])\n",
    "tfidf_matrix"
   ]
  },
  {
   "cell_type": "code",
   "execution_count": 17,
   "metadata": {},
   "outputs": [
    {
     "data": {
      "text/plain": [
       "array([[1.        ],\n",
       "       [0.36314828],\n",
       "       [0.22503408],\n",
       "       ...,\n",
       "       [0.        ],\n",
       "       [0.        ],\n",
       "       [0.        ]])"
      ]
     },
     "execution_count": 17,
     "metadata": {},
     "output_type": "execute_result"
    }
   ],
   "source": [
    "# Computing cosine similarities between movie title genre and the others genres.\n",
    "tfidf_similarities = cosine_similarity(tfidf_matrix, tfidf.transform([desc]))\n",
    "tfidf_similarities"
   ]
  },
  {
   "cell_type": "code",
   "execution_count": 18,
   "metadata": {},
   "outputs": [
    {
     "data": {
      "text/plain": [
       "array([    0, 31209,  7432,  7723, 33194,  8201,  8241, 32442, 31881,\n",
       "        9200], dtype=int64)"
      ]
     },
     "execution_count": 18,
     "metadata": {},
     "output_type": "execute_result"
    }
   ],
   "source": [
    "# Getting top 10 index from films which have the best match according to TF-IDF.\n",
    "tfidf_similar_movie_indices = tfidf_similarities.argsort(axis=0)[-10:][::-1].flatten()\n",
    "tfidf_similar_movie_indices"
   ]
  },
  {
   "cell_type": "code",
   "execution_count": 19,
   "metadata": {},
   "outputs": [
    {
     "data": {
      "text/plain": [
       "['tom and jerry spy quest',\n",
       " \"bon voyage, charlie brown (and don't come back!)\",\n",
       " 'garfield',\n",
       " 'hotel transylvania 2',\n",
       " \"bébé's kids\"]"
      ]
     },
     "execution_count": 19,
     "metadata": {},
     "output_type": "execute_result"
    }
   ],
   "source": [
    "# Turn indexes into titles showing  off top 5 .\n",
    "tfidf_similar_movie_titles = df.loc[tfidf_similar_movie_indices, 'title'].tolist()\n",
    "tfidf_similar_movie_titles[1:6]"
   ]
  },
  {
   "attachments": {},
   "cell_type": "markdown",
   "metadata": {},
   "source": [
    "**Now, I'll use overview column**"
   ]
  },
  {
   "cell_type": "code",
   "execution_count": 20,
   "metadata": {},
   "outputs": [
    {
     "data": {
      "text/plain": [
       "\"led by woody, andy's toys live happily in his room until andy's birthday brings buzz lightyear onto the scene. afraid of losing his place in andy's heart, woody plots against buzz. but when circumstances separate buzz and woody from their owner, the duo eventually learns to put aside their differences.\""
      ]
     },
     "execution_count": 20,
     "metadata": {},
     "output_type": "execute_result"
    }
   ],
   "source": [
    "# Getting the description of the movie title given.\n",
    "movie_title = 'toy story'\n",
    "desc = df[(df['title'] == movie_title)]['overview'].str.strip()[0]\n",
    "desc"
   ]
  },
  {
   "cell_type": "code",
   "execution_count": 21,
   "metadata": {},
   "outputs": [
    {
     "data": {
      "text/plain": [
       "<45363x76070 sparse matrix of type '<class 'numpy.float64'>'\n",
       "\twith 1883741 stored elements in Compressed Sparse Row format>"
      ]
     },
     "execution_count": 21,
     "metadata": {},
     "output_type": "execute_result"
    }
   ],
   "source": [
    "# Computing all the TF-IDF features for all the overviews.\n",
    "tfidf = TfidfVectorizer()\n",
    "tfidf_matrix = tfidf.fit_transform(df['overview'])\n",
    "tfidf_matrix"
   ]
  },
  {
   "cell_type": "code",
   "execution_count": 22,
   "metadata": {},
   "outputs": [
    {
     "data": {
      "text/plain": [
       "array([[1.        ],\n",
       "       [0.03099428],\n",
       "       [0.01312044],\n",
       "       ...,\n",
       "       [0.00957572],\n",
       "       [0.03557541],\n",
       "       [0.01782177]])"
      ]
     },
     "execution_count": 22,
     "metadata": {},
     "output_type": "execute_result"
    }
   ],
   "source": [
    "# Computing cosine similarities between movie title overview  and the others overviews.\n",
    "tfidf_similarities = cosine_similarity(tfidf_matrix, tfidf.transform([desc]))\n",
    "tfidf_similarities"
   ]
  },
  {
   "cell_type": "code",
   "execution_count": 23,
   "metadata": {},
   "outputs": [
    {
     "data": {
      "text/plain": [
       "array([    0, 15337,  2994, 10293, 24485, 23807, 29160, 43338, 38407,\n",
       "        8321], dtype=int64)"
      ]
     },
     "execution_count": 23,
     "metadata": {},
     "output_type": "execute_result"
    }
   ],
   "source": [
    "# Getting top 10 index from films which have the best match according to TF-IDF.\n",
    "tfidf_similar_movie_indices = tfidf_similarities.argsort(axis=0)[-10:][::-1].flatten()\n",
    "tfidf_similar_movie_indices"
   ]
  },
  {
   "cell_type": "code",
   "execution_count": 24,
   "metadata": {},
   "outputs": [
    {
     "data": {
      "text/plain": [
       "['toy story 3',\n",
       " 'toy story 2',\n",
       " 'the 40 year old virgin',\n",
       " 'small fry',\n",
       " \"andy hardy's blonde trouble\"]"
      ]
     },
     "execution_count": 24,
     "metadata": {},
     "output_type": "execute_result"
    }
   ],
   "source": [
    "# Turn indexes into titles showing off top 5 .\n",
    "tfidf_similar_movie_titles = df.loc[tfidf_similar_movie_indices, 'title'].tolist()\n",
    "tfidf_similar_movie_titles[1:6]"
   ]
  }
 ],
 "metadata": {
  "kernelspec": {
   "display_name": "Python 3",
   "language": "python",
   "name": "python3"
  },
  "language_info": {
   "codemirror_mode": {
    "name": "ipython",
    "version": 3
   },
   "file_extension": ".py",
   "mimetype": "text/x-python",
   "name": "python",
   "nbconvert_exporter": "python",
   "pygments_lexer": "ipython3",
   "version": "3.10.6"
  },
  "orig_nbformat": 4
 },
 "nbformat": 4,
 "nbformat_minor": 2
}
